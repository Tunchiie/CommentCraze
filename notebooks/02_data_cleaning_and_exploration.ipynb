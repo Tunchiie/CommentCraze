{
 "cells": [
  {
   "cell_type": "code",
   "execution_count": 1,
   "metadata": {},
   "outputs": [],
   "source": [
    "import pandas as pd\n",
    "import re\n",
    "import string\n",
    "import os\n",
    "from vaderSentiment.vaderSentiment import SentimentIntensityAnalyzer"
   ]
  },
  {
   "cell_type": "code",
   "execution_count": 2,
   "metadata": {},
   "outputs": [
    {
     "name": "stdout",
     "output_type": "stream",
     "text": [
      "(150, 4)\n"
     ]
    },
    {
     "data": {
      "text/html": [
       "<div>\n",
       "<style scoped>\n",
       "    .dataframe tbody tr th:only-of-type {\n",
       "        vertical-align: middle;\n",
       "    }\n",
       "\n",
       "    .dataframe tbody tr th {\n",
       "        vertical-align: top;\n",
       "    }\n",
       "\n",
       "    .dataframe thead th {\n",
       "        text-align: right;\n",
       "    }\n",
       "</style>\n",
       "<table border=\"1\" class=\"dataframe\">\n",
       "  <thead>\n",
       "    <tr style=\"text-align: right;\">\n",
       "      <th></th>\n",
       "      <th>author</th>\n",
       "      <th>text</th>\n",
       "      <th>like_count</th>\n",
       "      <th>published_at</th>\n",
       "    </tr>\n",
       "  </thead>\n",
       "  <tbody>\n",
       "    <tr>\n",
       "      <th>0</th>\n",
       "      <td>@jrollthedj</td>\n",
       "      <td>we are now working on the new 2024 mix for eve...</td>\n",
       "      <td>6753</td>\n",
       "      <td>2024-01-08T23:30:51Z</td>\n",
       "    </tr>\n",
       "    <tr>\n",
       "      <th>1</th>\n",
       "      <td>@eliete3149</td>\n",
       "      <td>Toda vez que ouço essa música, meu coração bat...</td>\n",
       "      <td>0</td>\n",
       "      <td>2025-03-31T21:14:18Z</td>\n",
       "    </tr>\n",
       "    <tr>\n",
       "      <th>2</th>\n",
       "      <td>@danieljohnson7020</td>\n",
       "      <td>2025 afrobeattt is now out hear the beats on e...</td>\n",
       "      <td>0</td>\n",
       "      <td>2025-03-31T19:37:59Z</td>\n",
       "    </tr>\n",
       "    <tr>\n",
       "      <th>3</th>\n",
       "      <td>@Vibesfirst</td>\n",
       "      <td>When we are happy that’s when we enjoy the son...</td>\n",
       "      <td>2</td>\n",
       "      <td>2025-03-31T14:56:10Z</td>\n",
       "    </tr>\n",
       "    <tr>\n",
       "      <th>4</th>\n",
       "      <td>@AyanshCharan-ui9mw</td>\n",
       "      <td>I'm here 2025 who else❤</td>\n",
       "      <td>5</td>\n",
       "      <td>2025-03-31T04:12:31Z</td>\n",
       "    </tr>\n",
       "  </tbody>\n",
       "</table>\n",
       "</div>"
      ],
      "text/plain": [
       "                author                                               text  \\\n",
       "0          @jrollthedj  we are now working on the new 2024 mix for eve...   \n",
       "1          @eliete3149  Toda vez que ouço essa música, meu coração bat...   \n",
       "2   @danieljohnson7020  2025 afrobeattt is now out hear the beats on e...   \n",
       "3          @Vibesfirst  When we are happy that’s when we enjoy the son...   \n",
       "4  @AyanshCharan-ui9mw                            I'm here 2025 who else❤   \n",
       "\n",
       "   like_count          published_at  \n",
       "0        6753  2024-01-08T23:30:51Z  \n",
       "1           0  2025-03-31T21:14:18Z  \n",
       "2           0  2025-03-31T19:37:59Z  \n",
       "3           2  2025-03-31T14:56:10Z  \n",
       "4           5  2025-03-31T04:12:31Z  "
      ]
     },
     "execution_count": 2,
     "metadata": {},
     "output_type": "execute_result"
    }
   ],
   "source": [
    "comments_df = pd.read_csv(\"../data/raw/comments.csv\")\n",
    "print(comments_df.shape)\n",
    "comments_df.head()"
   ]
  },
  {
   "cell_type": "code",
   "execution_count": 3,
   "metadata": {},
   "outputs": [
    {
     "data": {
      "text/html": [
       "<div>\n",
       "<style scoped>\n",
       "    .dataframe tbody tr th:only-of-type {\n",
       "        vertical-align: middle;\n",
       "    }\n",
       "\n",
       "    .dataframe tbody tr th {\n",
       "        vertical-align: top;\n",
       "    }\n",
       "\n",
       "    .dataframe thead th {\n",
       "        text-align: right;\n",
       "    }\n",
       "</style>\n",
       "<table border=\"1\" class=\"dataframe\">\n",
       "  <thead>\n",
       "    <tr style=\"text-align: right;\">\n",
       "      <th></th>\n",
       "      <th>author</th>\n",
       "      <th>text</th>\n",
       "      <th>like_count</th>\n",
       "      <th>published_at</th>\n",
       "    </tr>\n",
       "  </thead>\n",
       "  <tbody>\n",
       "    <tr>\n",
       "      <th>count</th>\n",
       "      <td>150</td>\n",
       "      <td>147</td>\n",
       "      <td>150.000000</td>\n",
       "      <td>150</td>\n",
       "    </tr>\n",
       "    <tr>\n",
       "      <th>unique</th>\n",
       "      <td>145</td>\n",
       "      <td>144</td>\n",
       "      <td>NaN</td>\n",
       "      <td>150</td>\n",
       "    </tr>\n",
       "    <tr>\n",
       "      <th>top</th>\n",
       "      <td>@dawnchu5449</td>\n",
       "      <td>❤</td>\n",
       "      <td>NaN</td>\n",
       "      <td>2024-01-08T23:30:51Z</td>\n",
       "    </tr>\n",
       "    <tr>\n",
       "      <th>freq</th>\n",
       "      <td>3</td>\n",
       "      <td>2</td>\n",
       "      <td>NaN</td>\n",
       "      <td>1</td>\n",
       "    </tr>\n",
       "    <tr>\n",
       "      <th>mean</th>\n",
       "      <td>NaN</td>\n",
       "      <td>NaN</td>\n",
       "      <td>118.326667</td>\n",
       "      <td>NaN</td>\n",
       "    </tr>\n",
       "    <tr>\n",
       "      <th>std</th>\n",
       "      <td>NaN</td>\n",
       "      <td>NaN</td>\n",
       "      <td>1036.720154</td>\n",
       "      <td>NaN</td>\n",
       "    </tr>\n",
       "    <tr>\n",
       "      <th>min</th>\n",
       "      <td>NaN</td>\n",
       "      <td>NaN</td>\n",
       "      <td>0.000000</td>\n",
       "      <td>NaN</td>\n",
       "    </tr>\n",
       "    <tr>\n",
       "      <th>25%</th>\n",
       "      <td>NaN</td>\n",
       "      <td>NaN</td>\n",
       "      <td>0.000000</td>\n",
       "      <td>NaN</td>\n",
       "    </tr>\n",
       "    <tr>\n",
       "      <th>50%</th>\n",
       "      <td>NaN</td>\n",
       "      <td>NaN</td>\n",
       "      <td>0.000000</td>\n",
       "      <td>NaN</td>\n",
       "    </tr>\n",
       "    <tr>\n",
       "      <th>75%</th>\n",
       "      <td>NaN</td>\n",
       "      <td>NaN</td>\n",
       "      <td>1.000000</td>\n",
       "      <td>NaN</td>\n",
       "    </tr>\n",
       "    <tr>\n",
       "      <th>max</th>\n",
       "      <td>NaN</td>\n",
       "      <td>NaN</td>\n",
       "      <td>10799.000000</td>\n",
       "      <td>NaN</td>\n",
       "    </tr>\n",
       "  </tbody>\n",
       "</table>\n",
       "</div>"
      ],
      "text/plain": [
       "              author text    like_count          published_at\n",
       "count            150  147    150.000000                   150\n",
       "unique           145  144           NaN                   150\n",
       "top     @dawnchu5449    ❤           NaN  2024-01-08T23:30:51Z\n",
       "freq               3    2           NaN                     1\n",
       "mean             NaN  NaN    118.326667                   NaN\n",
       "std              NaN  NaN   1036.720154                   NaN\n",
       "min              NaN  NaN      0.000000                   NaN\n",
       "25%              NaN  NaN      0.000000                   NaN\n",
       "50%              NaN  NaN      0.000000                   NaN\n",
       "75%              NaN  NaN      1.000000                   NaN\n",
       "max              NaN  NaN  10799.000000                   NaN"
      ]
     },
     "execution_count": 3,
     "metadata": {},
     "output_type": "execute_result"
    }
   ],
   "source": [
    "comments_df.describe(include=\"all\")\n"
   ]
  },
  {
   "cell_type": "code",
   "execution_count": 4,
   "metadata": {},
   "outputs": [
    {
     "data": {
      "text/plain": [
       "author          0\n",
       "text            3\n",
       "like_count      0\n",
       "published_at    0\n",
       "dtype: int64"
      ]
     },
     "execution_count": 4,
     "metadata": {},
     "output_type": "execute_result"
    }
   ],
   "source": [
    "# Check for missing values\n",
    "comments_df.isnull().sum()"
   ]
  },
  {
   "cell_type": "code",
   "execution_count": 5,
   "metadata": {},
   "outputs": [
    {
     "name": "stdout",
     "output_type": "stream",
     "text": [
      "<class 'pandas.core.frame.DataFrame'>\n",
      "RangeIndex: 150 entries, 0 to 149\n",
      "Data columns (total 4 columns):\n",
      " #   Column        Non-Null Count  Dtype \n",
      "---  ------        --------------  ----- \n",
      " 0   author        150 non-null    object\n",
      " 1   text          147 non-null    object\n",
      " 2   like_count    150 non-null    int64 \n",
      " 3   published_at  150 non-null    object\n",
      "dtypes: int64(1), object(3)\n",
      "memory usage: 4.8+ KB\n"
     ]
    }
   ],
   "source": [
    "comments_df.info()"
   ]
  },
  {
   "cell_type": "code",
   "execution_count": 6,
   "metadata": {},
   "outputs": [
    {
     "data": {
      "text/plain": [
       "array(['❤', 'omg, afrobeat is best 💕💕🎶🎶', '❤❤❤❤❤❤❤❤',\n",
       "       'Lestwins killed this song in 2023, with straight musicality, i love this song',\n",
       "       'I F-IN LOVE YOU JESS!!! AND LAUREN!! 🤟🏿💯❤️🤗🤣💯'], dtype=object)"
      ]
     },
     "execution_count": 6,
     "metadata": {},
     "output_type": "execute_result"
    }
   ],
   "source": [
    "# Random sample of comments\n",
    "comments_df[\"text\"].sample(5).values\n"
   ]
  },
  {
   "cell_type": "code",
   "execution_count": 7,
   "metadata": {},
   "outputs": [],
   "source": [
    "def clean_text(text):\n",
    "    \"\"\"\n",
    "    Clean the text by removing unwanted characters and formatting.\n",
    "    \"\"\"\n",
    "    # Check if the text is NaN\n",
    "    if pd.isnull(text):\n",
    "        return text\n",
    "    \n",
    "    text = text.lower()  # Convert to lowercase\n",
    "    # Remove HTML tags\n",
    "    text = re.sub(r\"<.*?>\", \"\", text)\n",
    "    # Remove URLs\n",
    "    text = re.sub(r\"https?://\\S+|www.\\S+\", \"\", text)\n",
    "\n",
    "    # Remove emojis and non-ASCII characters\n",
    "    text = re.sub(r\"[^\\x00-\\x7F]+\", \"\", text)\n",
    "\n",
    "    #remove punctuation\n",
    "    text = text.translate(str.maketrans(\"\", \"\", string.punctuation))\n",
    "    \n",
    "    # Remove newlines and extra spaces\n",
    "    text = text.replace(\"\\n\", \" \").replace(\"\\r\", \" \").strip()\n",
    "    \n",
    "    # Remove extra spaces\n",
    "    text = re.sub(r\"\\s+\", \" \", text).strip()\n",
    "\n",
    "    return text"
   ]
  },
  {
   "cell_type": "code",
   "execution_count": 8,
   "metadata": {},
   "outputs": [],
   "source": [
    "comments_df['cleaned_text'] = comments_df['text'].apply(clean_text)"
   ]
  },
  {
   "cell_type": "code",
   "execution_count": 9,
   "metadata": {},
   "outputs": [
    {
     "data": {
      "text/html": [
       "<div>\n",
       "<style scoped>\n",
       "    .dataframe tbody tr th:only-of-type {\n",
       "        vertical-align: middle;\n",
       "    }\n",
       "\n",
       "    .dataframe tbody tr th {\n",
       "        vertical-align: top;\n",
       "    }\n",
       "\n",
       "    .dataframe thead th {\n",
       "        text-align: right;\n",
       "    }\n",
       "</style>\n",
       "<table border=\"1\" class=\"dataframe\">\n",
       "  <thead>\n",
       "    <tr style=\"text-align: right;\">\n",
       "      <th></th>\n",
       "      <th>text</th>\n",
       "      <th>cleaned_text</th>\n",
       "    </tr>\n",
       "  </thead>\n",
       "  <tbody>\n",
       "    <tr>\n",
       "      <th>0</th>\n",
       "      <td>we are now working on the new 2024 mix for eve...</td>\n",
       "      <td>we are now working on the new 2024 mix for eve...</td>\n",
       "    </tr>\n",
       "    <tr>\n",
       "      <th>62</th>\n",
       "      <td>H</td>\n",
       "      <td>h</td>\n",
       "    </tr>\n",
       "    <tr>\n",
       "      <th>41</th>\n",
       "      <td>good</td>\n",
       "      <td>good</td>\n",
       "    </tr>\n",
       "    <tr>\n",
       "      <th>22</th>\n",
       "      <td>“Who is here in 2025”\\n\\n\\nEveryoneeeeeee</td>\n",
       "      <td>who is here in 2025 everyoneeeeeee</td>\n",
       "    </tr>\n",
       "    <tr>\n",
       "      <th>34</th>\n",
       "      <td>M</td>\n",
       "      <td>m</td>\n",
       "    </tr>\n",
       "  </tbody>\n",
       "</table>\n",
       "</div>"
      ],
      "text/plain": [
       "                                                 text  \\\n",
       "0   we are now working on the new 2024 mix for eve...   \n",
       "62                                                  H   \n",
       "41                                               good   \n",
       "22          “Who is here in 2025”\\n\\n\\nEveryoneeeeeee   \n",
       "34                                                  M   \n",
       "\n",
       "                                         cleaned_text  \n",
       "0   we are now working on the new 2024 mix for eve...  \n",
       "62                                                  h  \n",
       "41                                               good  \n",
       "22                 who is here in 2025 everyoneeeeeee  \n",
       "34                                                  m  "
      ]
     },
     "execution_count": 9,
     "metadata": {},
     "output_type": "execute_result"
    }
   ],
   "source": [
    "comments_df[['text', 'cleaned_text']].sample(5)"
   ]
  },
  {
   "cell_type": "code",
   "execution_count": 10,
   "metadata": {},
   "outputs": [],
   "source": [
    "analyzer = SentimentIntensityAnalyzer()\n",
    "comments_df['sentiment_score'] = comments_df['cleaned_text'].astype(str).apply(lambda x: analyzer.polarity_scores(x)['compound'])"
   ]
  },
  {
   "cell_type": "code",
   "execution_count": 11,
   "metadata": {},
   "outputs": [],
   "source": [
    "def label_sentiment(score):\n",
    "    if score >= 0.05:\n",
    "        return \"positive\"\n",
    "    elif score <= -0.05:\n",
    "        return \"negative\"\n",
    "    else:\n",
    "        return \"neutral\"\n",
    "\n",
    "comments_df[\"sentiment_label\"] = comments_df[\"sentiment_score\"].apply(label_sentiment)\n"
   ]
  },
  {
   "cell_type": "code",
   "execution_count": 12,
   "metadata": {},
   "outputs": [
    {
     "data": {
      "text/html": [
       "<div>\n",
       "<style scoped>\n",
       "    .dataframe tbody tr th:only-of-type {\n",
       "        vertical-align: middle;\n",
       "    }\n",
       "\n",
       "    .dataframe tbody tr th {\n",
       "        vertical-align: top;\n",
       "    }\n",
       "\n",
       "    .dataframe thead th {\n",
       "        text-align: right;\n",
       "    }\n",
       "</style>\n",
       "<table border=\"1\" class=\"dataframe\">\n",
       "  <thead>\n",
       "    <tr style=\"text-align: right;\">\n",
       "      <th></th>\n",
       "      <th>author</th>\n",
       "      <th>text</th>\n",
       "      <th>like_count</th>\n",
       "      <th>published_at</th>\n",
       "      <th>cleaned_text</th>\n",
       "      <th>sentiment_score</th>\n",
       "      <th>sentiment_label</th>\n",
       "    </tr>\n",
       "  </thead>\n",
       "  <tbody>\n",
       "    <tr>\n",
       "      <th>0</th>\n",
       "      <td>@jrollthedj</td>\n",
       "      <td>we are now working on the new 2024 mix for eve...</td>\n",
       "      <td>6753</td>\n",
       "      <td>2024-01-08T23:30:51Z</td>\n",
       "      <td>we are now working on the new 2024 mix for eve...</td>\n",
       "      <td>0.3612</td>\n",
       "      <td>positive</td>\n",
       "    </tr>\n",
       "    <tr>\n",
       "      <th>1</th>\n",
       "      <td>@eliete3149</td>\n",
       "      <td>Toda vez que ouço essa música, meu coração bat...</td>\n",
       "      <td>0</td>\n",
       "      <td>2025-03-31T21:14:18Z</td>\n",
       "      <td>toda vez que ouo essa msica meu corao bate mai...</td>\n",
       "      <td>0.0000</td>\n",
       "      <td>neutral</td>\n",
       "    </tr>\n",
       "    <tr>\n",
       "      <th>2</th>\n",
       "      <td>@danieljohnson7020</td>\n",
       "      <td>2025 afrobeattt is now out hear the beats on e...</td>\n",
       "      <td>0</td>\n",
       "      <td>2025-03-31T19:37:59Z</td>\n",
       "      <td>2025 afrobeattt is now out hear the beats on e...</td>\n",
       "      <td>0.6269</td>\n",
       "      <td>positive</td>\n",
       "    </tr>\n",
       "    <tr>\n",
       "      <th>3</th>\n",
       "      <td>@Vibesfirst</td>\n",
       "      <td>When we are happy that’s when we enjoy the son...</td>\n",
       "      <td>2</td>\n",
       "      <td>2025-03-31T14:56:10Z</td>\n",
       "      <td>when we are happy thats when we enjoy the song...</td>\n",
       "      <td>-0.1779</td>\n",
       "      <td>negative</td>\n",
       "    </tr>\n",
       "    <tr>\n",
       "      <th>4</th>\n",
       "      <td>@AyanshCharan-ui9mw</td>\n",
       "      <td>I'm here 2025 who else❤</td>\n",
       "      <td>5</td>\n",
       "      <td>2025-03-31T04:12:31Z</td>\n",
       "      <td>im here 2025 who else</td>\n",
       "      <td>0.0000</td>\n",
       "      <td>neutral</td>\n",
       "    </tr>\n",
       "  </tbody>\n",
       "</table>\n",
       "</div>"
      ],
      "text/plain": [
       "                author                                               text  \\\n",
       "0          @jrollthedj  we are now working on the new 2024 mix for eve...   \n",
       "1          @eliete3149  Toda vez que ouço essa música, meu coração bat...   \n",
       "2   @danieljohnson7020  2025 afrobeattt is now out hear the beats on e...   \n",
       "3          @Vibesfirst  When we are happy that’s when we enjoy the son...   \n",
       "4  @AyanshCharan-ui9mw                            I'm here 2025 who else❤   \n",
       "\n",
       "   like_count          published_at  \\\n",
       "0        6753  2024-01-08T23:30:51Z   \n",
       "1           0  2025-03-31T21:14:18Z   \n",
       "2           0  2025-03-31T19:37:59Z   \n",
       "3           2  2025-03-31T14:56:10Z   \n",
       "4           5  2025-03-31T04:12:31Z   \n",
       "\n",
       "                                        cleaned_text  sentiment_score  \\\n",
       "0  we are now working on the new 2024 mix for eve...           0.3612   \n",
       "1  toda vez que ouo essa msica meu corao bate mai...           0.0000   \n",
       "2  2025 afrobeattt is now out hear the beats on e...           0.6269   \n",
       "3  when we are happy thats when we enjoy the song...          -0.1779   \n",
       "4                              im here 2025 who else           0.0000   \n",
       "\n",
       "  sentiment_label  \n",
       "0        positive  \n",
       "1         neutral  \n",
       "2        positive  \n",
       "3        negative  \n",
       "4         neutral  "
      ]
     },
     "execution_count": 12,
     "metadata": {},
     "output_type": "execute_result"
    }
   ],
   "source": [
    "comments_df.head()"
   ]
  },
  {
   "cell_type": "code",
   "execution_count": 13,
   "metadata": {},
   "outputs": [
    {
     "name": "stdout",
     "output_type": "stream",
     "text": [
      "Saved to data/processed/comments_clean.csv ✅\n"
     ]
    }
   ],
   "source": [
    "# Make sure the processed folder exists\n",
    "os.makedirs(\"../data/processed\", exist_ok=True)\n",
    "\n",
    "comments_df.to_csv(\"../data/processed/comments_clean.csv\", index=False)\n",
    "print(\"Saved to data/processed/comments_clean.csv ✅\")"
   ]
  }
 ],
 "metadata": {
  "kernelspec": {
   "display_name": "Python 3",
   "language": "python",
   "name": "python3"
  },
  "language_info": {
   "codemirror_mode": {
    "name": "ipython",
    "version": 3
   },
   "file_extension": ".py",
   "mimetype": "text/x-python",
   "name": "python",
   "nbconvert_exporter": "python",
   "pygments_lexer": "ipython3",
   "version": "3.13.2"
  }
 },
 "nbformat": 4,
 "nbformat_minor": 2
}
