{
 "cells": [
  {
   "cell_type": "code",
   "execution_count": 1,
   "metadata": {},
   "outputs": [
    {
     "name": "stdout",
     "output_type": "stream",
     "text": [
      "[]\n",
      "['qUH5I_jKRB0']\n",
      "['qUH5I_jKRB0', 'aNB3q9OuaPY']\n",
      "50 comments retrieved for video ID: qUH5I_jKRB0\n",
      "50 comments retrieved for video ID: aNB3q9OuaPY\n",
      "50 comments retrieved for video ID: dNt1QR1ecuM\n",
      "Comments saved to comments.csv\n"
     ]
    }
   ],
   "source": [
    "import sys\n",
    "sys.path.append(\"../src\")\n",
    "from data.youtube_scraper import run_scraper\n",
    "run_scraper(query=\"Afrobeats\", max_results=3, max_comments=50)"
   ]
  },
  {
   "cell_type": "markdown",
   "metadata": {},
   "source": [
    "### Data Collected\n",
    "- Query: \"Afrobeats\"\n",
    "- 5 videos\n",
    "- 100 comments max per video\n",
    "- Stored in: data/raw/comments.csv"
   ]
  }
 ],
 "metadata": {
  "kernelspec": {
   "display_name": "Python 3",
   "language": "python",
   "name": "python3"
  },
  "language_info": {
   "codemirror_mode": {
    "name": "ipython",
    "version": 3
   },
   "file_extension": ".py",
   "mimetype": "text/x-python",
   "name": "python",
   "nbconvert_exporter": "python",
   "pygments_lexer": "ipython3",
   "version": "3.13.2"
  }
 },
 "nbformat": 4,
 "nbformat_minor": 2
}
